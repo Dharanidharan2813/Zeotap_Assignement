{
  "nbformat": 4,
  "nbformat_minor": 0,
  "metadata": {
    "colab": {
      "provenance": [],
      "authorship_tag": "ABX9TyPwZ1xNPg13i+gpdc9BFF4K",
      "include_colab_link": true
    },
    "kernelspec": {
      "name": "python3",
      "display_name": "Python 3"
    },
    "language_info": {
      "name": "python"
    }
  },
  "cells": [
    {
      "cell_type": "markdown",
      "metadata": {
        "id": "view-in-github",
        "colab_type": "text"
      },
      "source": [
        "<a href=\"https://colab.research.google.com/github/Dharanidharan2813/Zeotap_Assignement/blob/main/Dharanidharan_S_Lookalike.ipynb\" target=\"_parent\"><img src=\"https://colab.research.google.com/assets/colab-badge.svg\" alt=\"Open In Colab\"/></a>"
      ]
    },
    {
      "source": [
        "import pandas as pd\n",
        "from sklearn.preprocessing import StandardScaler\n",
        "from sklearn.metrics.pairwise import cosine_similarity\n",
        "\n",
        "customers = pd.read_csv('/content/Customers.csv')\n",
        "transactions = pd.read_csv('/content/Transactions.csv')\n",
        "\n",
        "# Merge Data\n",
        "merged_data = pd.merge(customers, transactions, on='CustomerID')\n",
        "\n",
        "# Create Customer Profiles\n",
        "customer_profiles = merged_data.groupby('CustomerID').agg({\n",
        "    'Price': ['sum', 'mean'],\n",
        "    'ProductID': 'count'\n",
        "}).reset_index()\n",
        "customer_profiles.columns = ['CustomerID', 'TotalSpent', 'AvgSpent', 'TotalTransactions']\n",
        "\n",
        "# Normalize Data\n",
        "scaler = StandardScaler()\n",
        "features = scaler.fit_transform(customer_profiles[['TotalSpent', 'AvgSpent', 'TotalTransactions']])\n",
        "\n",
        "# Calculate Similarities\n",
        "similarity_matrix = cosine_similarity(features)\n",
        "similarity_df = pd.DataFrame(similarity_matrix, index=customer_profiles['CustomerID'], columns=customer_profiles['CustomerID'])\n",
        "\n",
        "# Find Top 3 Similar Customers\n",
        "lookalike_results = {}\n",
        "for customer in customer_profiles['CustomerID']:\n",
        "    similar_customers = similarity_df[customer].sort_values(ascending=False)[1:4]\n",
        "    lookalike_results[customer] = similar_customers.to_dict()\n",
        "\n",
        "# Save Lookalike Results\n",
        "lookalike_df = pd.DataFrame([\n",
        "    {'cust_id': k, 'similar_cust_id': sim_id, 'score': score}\n",
        "    for k, v in lookalike_results.items() for sim_id, score in v.items()\n",
        "])\n",
        "lookalike_df.to_csv('Lookalike.csv', index=False)"
      ],
      "cell_type": "code",
      "metadata": {
        "id": "byM42rlo3bSF"
      },
      "execution_count": 19,
      "outputs": []
    }
  ]
}